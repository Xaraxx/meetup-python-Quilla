{
 "cells": [
  {
   "cell_type": "markdown",
   "metadata": {},
   "source": [
    "# Una breve introducción al análisis de datos con Jupyter\n",
    "\n",
    ">\"Un programador es la persona considerada experta en ser capaz de sacar, después de innumerables tecleos, una serie infinita de respuestas incomprensibles calculadas con precisión micrométrica a partir de vagas asunciones basadas en discutibles cifras tomadas de documentos inconcluyentes y llevados a cabo con instrumentos de escasa precisión, por personas de fiabilidad dudosa y cuestionable mentalidad con el propósito declarado de molestar y confundiar al desesperado e indefenso departamento que tuvo la mala fortuna de pedir la información en primer lugar.\"  \n",
    "\n",
    "_IEEE Grid newsmagazine_\n",
    "\n",
    "## ¿Qué es o qué se entiende por análisis de datos? \n",
    "\n",
    "1. Álgebra lineal-álgebra lineal numérica \n",
    "1. Modelado estadístico\n",
    "1. Visualización\n",
    "1. Lingüística computacional\n",
    "1. Análisis de gráficos\n",
    "1. Machine learning\n",
    "1. Inteligencia comercial\n",
    "1. almacenamiento y recuperación de datos\n",
    "1. Otras...\n",
    "\n",
    "## ¿Qué es o qué son los _datos_?\n",
    "\n",
    " ![title](img/hubble.jpg.jpg) \n",
    " \n",
    " ![title](img/figure-65.png)"
   ]
  },
  {
   "cell_type": "markdown",
   "metadata": {},
   "source": []
  },
  {
   "cell_type": "code",
   "execution_count": null,
   "metadata": {},
   "outputs": [],
   "source": []
  },
  {
   "cell_type": "code",
   "execution_count": null,
   "metadata": {},
   "outputs": [],
   "source": []
  },
  {
   "cell_type": "code",
   "execution_count": null,
   "metadata": {},
   "outputs": [],
   "source": []
  }
 ],
 "metadata": {
  "kernelspec": {
   "display_name": "Python 3",
   "language": "python",
   "name": "python3"
  },
  "language_info": {
   "codemirror_mode": {
    "name": "ipython",
    "version": 3
   },
   "file_extension": ".py",
   "mimetype": "text/x-python",
   "name": "python",
   "nbconvert_exporter": "python",
   "pygments_lexer": "ipython3",
   "version": "3.6.4"
  }
 },
 "nbformat": 4,
 "nbformat_minor": 2
}
