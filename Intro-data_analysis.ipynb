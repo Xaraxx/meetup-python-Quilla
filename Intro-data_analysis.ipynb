{
 "cells": [
  {
   "cell_type": "markdown",
   "metadata": {},
   "source": [
    "# Una breve introducción al análisis de datos con Jupyter\n",
    "\n",
    ">\"Un programador es la persona considerada experta en ser capaz de sacar, después de innumerables tecleos, una serie infinita de respuestas incomprensibles calculadas con precisión micrométrica a partir de vagas asunciones basadas en discutibles cifras tomadas de documentos inconcluyentes y llevados a cabo con instrumentos de escasa precisión, por personas de fiabilidad dudosa y cuestionable mentalidad con el propósito declarado de molestar y confundiar al desesperado e indefenso departamento que tuvo la mala fortuna de pedir la información en primer lugar.\"  \n",
    "\n",
    "_IEEE Grid newsmagazine_\n",
    "\n",
    "## ¿Qué es o qué se entiende por análisis de datos? \n",
    "\n",
    "1. Álgebra lineal-álgebra lineal numérica \n",
    "1. Modelado estadístico\n",
    "1. Visualización\n",
    "1. Lingüística computacional\n",
    "1. Análisis de gráficos\n",
    "1. Machine learning\n",
    "1. Inteligencia comercial\n",
    "1. almacenamiento y recuperación de datos\n",
    "1. Otras...\n",
    "\n",
    "## ¿Qué es o qué son los _datos_?\n",
    "\n",
    "Será que esto es un dato? \n",
    "\n",
    " ![title](img/hubble.jpg.jpg)\n",
    " \n",
    " O esto?\n",
    " \n",
    " ![title](img/figure-65.png)\n",
    "\n",
    "Qué tal esto? \n",
    "\n",
    " ![title](img/queen-i-want-to-break-free-works.jpg)\n",
    " \n",
    " Mmm... y esto?\n",
    " \n",
    " ![title](img/fisic3.jpg)"
   ]
  },
  {
   "cell_type": "markdown",
   "metadata": {},
   "source": [
    "Finalmente, \n",
    ">...las cantidades, caracteres o símbolos en los que las operaciones son realizadas por una computadora, que pueden almacenarse y transmitirse en forma de señales eléctricas y grabadas en medios de grabación magnéticos, ópticos o mecánicos."
   ]
  },
  {
   "cell_type": "markdown",
   "metadata": {},
   "source": [
    "## Pasos para el análisis de datos\n",
    "\n",
    "Cómo se realiza el análisis de datos?\n",
    "\n",
    "### 1. Interacción con el mundo exterior \n",
    "\n",
    "### 2. Preparación \n",
    "\n",
    "    Limpiar, cortar, combinar, normalizar, remodelar, todas las transformaciones que implican el pre-procesamiento de datos para el análisis.\n",
    "\n",
    "### 3. Transformación \n",
    "\n",
    "    Aplicación de las operaciones matemáticas y estadísticas a un grupo de datos para la derivación de nuevos conjuntos. Ejemplo, organizar una serie de datos de cualquier cosa en forma matricial.\n",
    "\n",
    "### 4. Modelado y cálculo \n",
    "\n",
    "    Conectar estos datos a modelos matemáticos, estadísticos, algoritmos de aprendizaje automático, u otras  *herramientas computacionales *. \n",
    "    \n",
    "#### _Herramientas que Python ofrece para el procesamiento de datos_ \n",
    "\n",
    "1. Numpy\n",
    "\n",
    "1. Scipy\n",
    "\n",
    "1. Pandas\n",
    "\n",
    "1.  Scikit-learn\n",
    "\n",
    "1. Matplotlib\n",
    "\n",
    "1. IPython - Jupyter notebook \n",
    "\n",
    "_Scikit-learn_ es el núcleo de la ciencia de datos  en Python. Ofrece todo lo que puede necesitar en términos de pre-procesamiento de datos,\n",
    "aprendizaje supervisado y no supervisado, selección del modelo, validación y errormétrica. Espere que hablemos extensamente sobre este paquete a lo largo de este libro. _Scikit-learn_ comenzó en 2007 como un proyecto Google Summer of Code por David Cournapeau. Desde 2013, ha sido asumido por los investigadores del INRA (Instituto Francés de Investigación en Ciencias de la Computación y Automatización). [@boschetti2015python]"
   ]
  },
  {
   "cell_type": "markdown",
   "metadata": {},
   "source": [
    "## Ahora veamos unos ejemplos...\n",
    "\n",
    "### Ejemplo 1: Determinación de una propiedad física apartir de un conjunto de datos experimentales\n",
    "\n",
    " ![title](img/dens.png)\n",
    " \n",
    " Bien! sea $\\rho$ la densidad del etilenglicol, entonces se define una función $\\rho(T)$ la cual es linealmente dependiente de la temperatura, es decir:\n",
    " \n",
    " $$\\rho(T) = AT + b $$\n",
    " \n",
    " En la cual $A$ y $b$ son constantes, que se pretenden determinar  con el fin de establecer la relación funcional entre la densidad y la temperatura del compuesto con el propósito de estimar un valor desconocido de densidad a partir de una temperatura conocida. \n",
    " \n",
    " "
   ]
  },
  {
   "cell_type": "code",
   "execution_count": 6,
   "metadata": {},
   "outputs": [
    {
     "ename": "NameError",
     "evalue": "name 'size' is not defined",
     "output_type": "error",
     "traceback": [
      "\u001b[0;31m---------------------------------------------------------------------------\u001b[0m",
      "\u001b[0;31mNameError\u001b[0m                                 Traceback (most recent call last)",
      "\u001b[0;32m<ipython-input-6-ea6edef3d239>\u001b[0m in \u001b[0;36m<module>\u001b[0;34m()\u001b[0m\n\u001b[1;32m      1\u001b[0m \u001b[0;32mimport\u001b[0m \u001b[0mnumpy\u001b[0m \u001b[0;32mas\u001b[0m \u001b[0mnp\u001b[0m\u001b[0;34m\u001b[0m\u001b[0m\n\u001b[1;32m      2\u001b[0m \u001b[0mT\u001b[0m \u001b[0;34m=\u001b[0m \u001b[0mnp\u001b[0m\u001b[0;34m.\u001b[0m\u001b[0marray\u001b[0m\u001b[0;34m(\u001b[0m\u001b[0;34m[\u001b[0m\u001b[0;36m5\u001b[0m\u001b[0;34m,\u001b[0m\u001b[0;36m10\u001b[0m\u001b[0;34m,\u001b[0m\u001b[0;36m15\u001b[0m\u001b[0;34m,\u001b[0m\u001b[0;36m20\u001b[0m\u001b[0;34m,\u001b[0m\u001b[0;36m25\u001b[0m\u001b[0;34m,\u001b[0m\u001b[0;36m30\u001b[0m\u001b[0;34m,\u001b[0m\u001b[0;36m35\u001b[0m\u001b[0;34m,\u001b[0m\u001b[0;36m40\u001b[0m\u001b[0;34m,\u001b[0m\u001b[0;36m45\u001b[0m\u001b[0;34m,\u001b[0m\u001b[0;36m50\u001b[0m\u001b[0;34m]\u001b[0m\u001b[0;34m)\u001b[0m\u001b[0;34m\u001b[0m\u001b[0m\n\u001b[0;32m----> 3\u001b[0;31m \u001b[0mprint\u001b[0m\u001b[0;34m(\u001b[0m\u001b[0msize\u001b[0m\u001b[0;34m(\u001b[0m\u001b[0mT\u001b[0m\u001b[0;34m)\u001b[0m\u001b[0;34m)\u001b[0m\u001b[0;34m\u001b[0m\u001b[0m\n\u001b[0m",
      "\u001b[0;31mNameError\u001b[0m: name 'size' is not defined"
     ]
    }
   ],
   "source": [
    "import numpy as np\n",
    "T = np.array([5,10,15,20,25,30,35,40,45,50])\n",
    "print(size(T))\n"
   ]
  },
  {
   "cell_type": "code",
   "execution_count": 9,
   "metadata": {},
   "outputs": [
    {
     "data": {
      "text/plain": [
       "(300, 3.8, 6.343333333333334)"
      ]
     },
     "execution_count": 9,
     "metadata": {},
     "output_type": "execute_result"
    }
   ],
   "source": [
    "from sklearn import datasets \n",
    "iris_dataset = datasets.load_iris()\n",
    "X = iris_dataset.data[ :,  :2]\n",
    "x_count = len(X.flat)\n",
    "x_min = X[:, 0] .min( ) - .5\n",
    "x_max = X[:, 0] .mean( ) + .5\n",
    "x_count, x_min, x_max   "
   ]
  },
  {
   "cell_type": "markdown",
   "metadata": {},
   "source": [
    "## Referencias \n",
    "\n",
    " ---\n",
    "title: \"Sample Document\"\n",
    "output: html_document\n",
    "bibliography: myrefs.bib\n",
    "csl: biomed-central.csl\n",
    "---\n"
   ]
  },
  {
   "cell_type": "code",
   "execution_count": null,
   "metadata": {},
   "outputs": [],
   "source": []
  }
 ],
 "metadata": {
  "kernelspec": {
   "display_name": "Python 3",
   "language": "python",
   "name": "python3"
  },
  "language_info": {
   "codemirror_mode": {
    "name": "ipython",
    "version": 3
   },
   "file_extension": ".py",
   "mimetype": "text/x-python",
   "name": "python",
   "nbconvert_exporter": "python",
   "pygments_lexer": "ipython3",
   "version": "3.5.2"
  }
 },
 "nbformat": 4,
 "nbformat_minor": 2
}
